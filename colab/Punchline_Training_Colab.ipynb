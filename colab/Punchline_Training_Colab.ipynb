{
 "cells": [
  {
   "cell_type": "markdown",
   "metadata": {},
   "source": [
    "# Joke Punchline Training on Colab\n",
    "This notebook shows how to prepare the dataset and start training on Google Colab. Set the runtime to GPU (\\`Runtime -> Change runtime type -> GPU\\`)."
   ]
  },
  {
   "cell_type": "code",
   "execution_count": null,
   "metadata": {},
   "outputs": [],
   "source": [
    "!nvidia-smi"
   ]
  },
  {
   "cell_type": "code",
   "execution_count": null,
   "metadata": {},
   "outputs": [],
   "source": [
    "# Install dependencies\n",
    "!pip install -r sft_training/requirements.txt -r rl_training/requirements.txt\n",
    "# Install custom OpenRLHF fork\n",
    "!pip install -e rl_training/openrlhf"
   ]
  },
  {
   "cell_type": "code",
   "execution_count": null,
   "metadata": {},
   "outputs": [],
   "source": [
    "# Compile the joke dataset (replace the input with your own file)\n",
    "!python setup_data/compile_joke_dataset.py --input setup_data/example_data/example_jokes.jsonl --output_dir setup_data/example_data/split"
   ]
  },
  {
   "cell_type": "code",
   "execution_count": null,
   "metadata": {},
   "outputs": [],
   "source": [
    "# Prepare SFT data\n",
    "!python sft_training/setup_sft_data.py --model_name Qwen/Qwen2.5-3B-Instruct --dataset_name joke_dataset --data_dir sft_training/sft_data/"
   ]
  },
  {
   "cell_type": "markdown",
   "metadata": {},
   "source": [
    "### Start SFT training\n",
    "Adjust the configuration for your own runs as needed."
   ]
  },
  {
   "cell_type": "code",
   "execution_count": null,
   "metadata": {},
   "outputs": [],
   "source": [
    "!accelerate launch sft_training/train_sft.py --config sft_training/3b_config.yaml"
   ]
  },
  {
   "cell_type": "markdown",
   "metadata": {},
   "source": [
    "### (Optional) Prepare RL data and baseline perplexities"
   ]
  },
  {
   "cell_type": "code",
   "execution_count": null,
   "metadata": {},
   "outputs": [],
   "source": [
    "!python rl_training/setup_rl_data.py --tokenizer_name Qwen/Qwen2.5-3B-Instruct --data_dir rl_training/rl_data/ --dataset_name joke_dataset\n",
    "!python rl_training/compute_baseline_ppls.py --model_name Qwen/Qwen2.5-7B-Instruct-1M --nice_model_name qwen7B --dataset_name joke_dataset"
   ]
  },
  {
   "cell_type": "code",
   "execution_count": null,
   "metadata": {},
   "outputs": [],
   "source": [
    "# Start RL training\n",
    "!bash rl_training/train_3b.sh"
   ]
  }
 ],
 "metadata": {
  "kernelspec": {
   "display_name": "Python 3",
   "language": "python",
   "name": "python3"
  },
  "language_info": {
   "name": "python",
   "version": "3.10"
  }
 },
 "nbformat": 4,
 "nbformat_minor": 5
}
